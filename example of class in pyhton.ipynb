{
 "cells": [
  {
   "cell_type": "code",
   "execution_count": 1,
   "metadata": {},
   "outputs": [
    {
     "name": "stdout",
     "output_type": "stream",
     "text": [
      "welcome to Abn Amro Bank in amsterdam\n",
      " enter name of the customer:anusha\n",
      "hello anusha your account got created\n",
      " D-Deposit\n",
      " W-Withdrawal\n",
      " E-Exit\n",
      " choose your option:d\n",
      " enter amount:10000\n",
      " after deposit balance is: 10000.0\n",
      " D-Deposit\n",
      " W-Withdrawal\n",
      " E-Exit\n",
      " choose your option:d\n",
      " enter amount:20000\n",
      " after deposit balance is: 30000.0\n",
      " D-Deposit\n",
      " W-Withdrawal\n",
      " E-Exit\n",
      " choose your option:w\n",
      "enter withdrawal amount:10000\n",
      " after withdrawal your balance is : 20000.0\n",
      " D-Deposit\n",
      " W-Withdrawal\n",
      " E-Exit\n",
      " choose your option:d\n",
      " enter amount:90000\n",
      " after deposit balance is: 110000.0\n",
      " D-Deposit\n",
      " W-Withdrawal\n",
      " E-Exit\n",
      " choose your option:w\n",
      "enter withdrawal amount:10000\n",
      " after withdrawal your balance is : 100000.0\n",
      " D-Deposit\n",
      " W-Withdrawal\n",
      " E-Exit\n",
      " choose your option:w\n",
      "enter withdrawal amount:200000\n",
      " sorry...insufficient funds cannot perform this operation\n"
     ]
    },
    {
     "ename": "SystemExit",
     "evalue": "",
     "output_type": "error",
     "traceback": [
      "An exception has occurred, use %tb to see the full traceback.\n",
      "\u001b[1;31mSystemExit\u001b[0m\n"
     ]
    },
    {
     "name": "stderr",
     "output_type": "stream",
     "text": [
      "c:\\users\\anu\\appdata\\local\\programs\\python\\python36\\lib\\site-packages\\IPython\\core\\interactiveshell.py:3304: UserWarning: To exit: use 'exit', 'quit', or Ctrl-D.\n",
      "  warn(\"To exit: use 'exit', 'quit', or Ctrl-D.\", stacklevel=1)\n"
     ]
    }
   ],
   "source": [
    "import sys\n",
    "class Customer:\n",
    "    bankname='Abn Amro Bank'\n",
    "    def __init__(self,name,balance=0.0):\n",
    "        self.name=name\n",
    "        self.balance=balance\n",
    "        \n",
    "        \n",
    "        \n",
    "    def deposit(self,amount):\n",
    "        self.balance=self.balance+amount\n",
    "        print(\" after deposit balance is:\",self.balance)\n",
    "        \n",
    "        \n",
    "        \n",
    "    def withdraw(self,amount):\n",
    "        if amount>self.balance:\n",
    "            print(\" sorry...insufficient funds cannot perform this operation\")\n",
    "            sys.exit()\n",
    "        else:\n",
    "            self.balance=self.balance-amount\n",
    "            print(\" after withdrawal your balance is :\",self.balance)\n",
    "\n",
    "        \n",
    "        \n",
    "print(\"welcome to\", Customer.bankname,\"in amsterdam\")\n",
    "\n",
    "name=(input(\" enter name of the customer:\"))\n",
    "c=Customer(name)\n",
    "\n",
    "print(\"hello\", c.name , \"your account got created\")\n",
    "\n",
    "while True:\n",
    "    print(\" D-Deposit\\n W-Withdrawal\\n E-Exit\")\n",
    "    option=input(\" choose your option:\")\n",
    "    \n",
    "    if option=='D' or option=='d':\n",
    "        amount=float(input(\" enter amount:\"))\n",
    "        c.deposit(amount)\n",
    "    elif option=='W' or option=='w':\n",
    "        amount=float(input(\"enter withdrawal amount:\"))\n",
    "        c.withdraw(amount)\n",
    "    elif option=='E'or option=='e':\n",
    "        print(\" Thanks for banking\")\n",
    "        sys.exit()\n",
    "    else:\n",
    "        print(\" Invalid option...please choose valid option\")\n",
    "        \n",
    "        "
   ]
  },
  {
   "cell_type": "code",
   "execution_count": null,
   "metadata": {},
   "outputs": [],
   "source": []
  }
 ],
 "metadata": {
  "kernelspec": {
   "display_name": "Python 3",
   "language": "python",
   "name": "python3"
  },
  "language_info": {
   "codemirror_mode": {
    "name": "ipython",
    "version": 3
   },
   "file_extension": ".py",
   "mimetype": "text/x-python",
   "name": "python",
   "nbconvert_exporter": "python",
   "pygments_lexer": "ipython3",
   "version": "3.6.8"
  }
 },
 "nbformat": 4,
 "nbformat_minor": 2
}
